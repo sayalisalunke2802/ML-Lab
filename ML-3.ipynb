{
 "cells": [
  {
   "cell_type": "code",
   "execution_count": 3,
   "id": "8219b082-b2c5-4882-a0e5-949ddf043de0",
   "metadata": {},
   "outputs": [
    {
     "name": "stderr",
     "output_type": "stream",
     "text": [
      "C:\\Users\\HP\\anaconda3\\Lib\\site-packages\\mlxtend\\frequent_patterns\\fpcommon.py:161: DeprecationWarning: DataFrames with non-bool types result in worse computationalperformance and their support might be discontinued in the future.Please use a DataFrame with bool type\n",
      "  warnings.warn(\n"
     ]
    },
    {
     "name": "stdout",
     "output_type": "stream",
     "text": [
      "Frequent Itemsets:\n",
      "     support                           itemsets\n",
      "0  0.022404         (3 STRIPEY MICE FELTCRAFT)\n",
      "1  0.037720           (6 RIBBONS RUSTIC CHARM)\n",
      "2  0.025767  (60 CAKE CASES VINTAGE CHRISTMAS)\n",
      "3  0.035257      (60 TEATIME FAIRY CAKE CASES)\n",
      "4  0.026668   (72 SWEETHEART FAIRY CAKE CASES)\n",
      "\n",
      "Association Rules:\n",
      "                             antecedents                           consequents  \\\n",
      "0          (ALARM CLOCK BAKELIKE GREEN)           (ALARM CLOCK BAKELIKE RED )   \n",
      "1           (ALARM CLOCK BAKELIKE RED )          (ALARM CLOCK BAKELIKE GREEN)   \n",
      "2   (GARDENERS KNEELING PAD KEEP CALM )  (GARDENERS KNEELING PAD CUP OF TEA )   \n",
      "3  (GARDENERS KNEELING PAD CUP OF TEA )   (GARDENERS KNEELING PAD KEEP CALM )   \n",
      "4      (PINK REGENCY TEACUP AND SAUCER)     (GREEN REGENCY TEACUP AND SAUCER)   \n",
      "\n",
      "    support  confidence       lift  \n",
      "0  0.027269    0.657971  14.451925  \n",
      "1  0.027269    0.598945  14.451925  \n",
      "2  0.027509    0.617251  16.390122  \n",
      "3  0.027509    0.730463  16.390122  \n",
      "4  0.024266    0.819473  22.293137  \n"
     ]
    }
   ],
   "source": [
    "#3.Implement apriori algorithm on Online retail dataset and discuss results.\n",
    "import pandas as pd\n",
    "from mlxtend.frequent_patterns import apriori, association_rules\n",
    "data = pd.read_csv(\"Online_Retail.csv\", encoding='latin1')\n",
    "data.dropna(inplace=True)\n",
    "data = data[~data['InvoiceNo'].astype(str).str.startswith('C')]\n",
    "data = data[data['Quantity'] > 0]\n",
    "basket = (data[data['Country'] == \"United Kingdom\"]\n",
    ".groupby(['InvoiceNo', 'Description'])['Quantity']\n",
    ".sum().unstack().reset_index().fillna(0)\n",
    ".set_index('InvoiceNo'))\n",
    "def encode_units(x):\n",
    " return 1 if x >= 1 else 0\n",
    "basket_sets = basket.apply(lambda x: x.map(encode_units))\n",
    "frequent_itemsets = apriori(basket_sets, min_support=0.02, use_colnames=True)\n",
    "rules = association_rules(frequent_itemsets, metric=\"lift\", min_threshold=1)\n",
    "print(\"Frequent Itemsets:\\n\", frequent_itemsets.head())\n",
    "print(\"\\nAssociation Rules:\\n\",\n",
    "rules[['antecedents','consequents','support','confidence','lift']].head())\n"
   ]
  },
  {
   "cell_type": "code",
   "execution_count": null,
   "id": "4c1de91c-8012-4be0-ace5-1f9ac04f58ae",
   "metadata": {},
   "outputs": [],
   "source": []
  }
 ],
 "metadata": {
  "kernelspec": {
   "display_name": "python (myenv\n\n\n)",
   "language": "python",
   "name": "myenv"
  },
  "language_info": {
   "codemirror_mode": {
    "name": "ipython",
    "version": 3
   },
   "file_extension": ".py",
   "mimetype": "text/x-python",
   "name": "python",
   "nbconvert_exporter": "python",
   "pygments_lexer": "ipython3",
   "version": "3.13.5"
  }
 },
 "nbformat": 4,
 "nbformat_minor": 5
}
