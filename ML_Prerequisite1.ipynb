{
 "cells": [
  {
   "cell_type": "code",
   "execution_count": null,
   "id": "4f95e2df-7a8b-4b3e-b54e-5665cbe38608",
   "metadata": {},
   "outputs": [],
   "source": [
    "# Prerequisite 1: Basics of Python"
   ]
  },
  {
   "cell_type": "code",
   "execution_count": 1,
   "id": "541b222c-ea1b-4689-a04e-f19e147ac906",
   "metadata": {},
   "outputs": [
    {
     "name": "stdin",
     "output_type": "stream",
     "text": [
      "Enter the radius of circle:  5\n"
     ]
    },
    {
     "name": "stdout",
     "output_type": "stream",
     "text": [
      "Area of circle is: 78.5\n"
     ]
    }
   ],
   "source": [
    "# 1) Area of Circle\n",
    "radius = int(input(\"Enter the radius of circle: \"))\n",
    "area = 3.14 * radius * radius\n",
    "print(\"Area of circle is:\", area)"
   ]
  },
  {
   "cell_type": "code",
   "execution_count": 2,
   "id": "72753e6f-9671-402d-bd60-8c9d7f8fd334",
   "metadata": {},
   "outputs": [
    {
     "name": "stdin",
     "output_type": "stream",
     "text": [
      "Enter the radius of circle:  5\n"
     ]
    },
    {
     "name": "stdout",
     "output_type": "stream",
     "text": [
      "Circumference of circle is: 31.400000000000002\n"
     ]
    }
   ],
   "source": [
    "# 2) Circumference of Circle\n",
    "radius = int(input(\"Enter the radius of circle: \"))\n",
    "circumference = 2 * 3.14 * radius\n",
    "print(\"Circumference of circle is:\", circumference)"
   ]
  },
  {
   "cell_type": "code",
   "execution_count": 3,
   "id": "16553678-9d10-4159-99db-be8cbe8ce8ab",
   "metadata": {},
   "outputs": [
    {
     "name": "stdin",
     "output_type": "stream",
     "text": [
      "Enter the radius of cylinder:  6\n",
      "Enter the height of cylinder:  8\n"
     ]
    },
    {
     "name": "stdout",
     "output_type": "stream",
     "text": [
      "Volume of cylinder is: 904.3199999999999\n"
     ]
    }
   ],
   "source": [
    "# 3) Volume of Cylinder\n",
    "radius = int(input(\"Enter the radius of cylinder: \"))\n",
    "height = int(input(\"Enter the height of cylinder: \"))\n",
    "volume = 3.14 * radius * radius * height\n",
    "print(\"Volume of cylinder is:\", volume)"
   ]
  },
  {
   "cell_type": "code",
   "execution_count": 4,
   "id": "5170cf15-3b09-4e97-a557-68dd728a3990",
   "metadata": {},
   "outputs": [
    {
     "name": "stdin",
     "output_type": "stream",
     "text": [
      "Enter the number:  78\n"
     ]
    },
    {
     "name": "stdout",
     "output_type": "stream",
     "text": [
      "Provided number is greater than 50\n"
     ]
    }
   ],
   "source": [
    "# 4) Check if Number is Greater than 50\n",
    "num1 = int(input(\"Enter the number: \"))\n",
    "if num1 > 50:\n",
    "    print(\"Provided number is greater than 50\")\n",
    "else:\n",
    "    print(\"Provided number is smaller than or equal to 50\")"
   ]
  },
  {
   "cell_type": "code",
   "execution_count": 6,
   "id": "f7259fe8-5883-4eec-8f5a-878a4c629c95",
   "metadata": {},
   "outputs": [
    {
     "name": "stdin",
     "output_type": "stream",
     "text": [
      "Enter marks of subject 1:  67\n",
      "Enter marks of subject 2:  78\n",
      "Enter marks of subject 3:  98\n",
      "Enter marks of subject 4:  90\n",
      "Enter marks of subject 5:  67\n"
     ]
    },
    {
     "name": "stdout",
     "output_type": "stream",
     "text": [
      "Your total is: 400\n",
      "Your Average is: 80.0\n",
      "Your percentage is: 80.0\n",
      "Grade is C\n"
     ]
    }
   ],
   "source": [
    "# 5) Student Marks, Average, Percentage and Grade\n",
    "sub1 = int(input(\"Enter marks of subject 1: \"))\n",
    "sub2 = int(input(\"Enter marks of subject 2: \"))\n",
    "sub3 = int(input(\"Enter marks of subject 3: \"))\n",
    "sub4 = int(input(\"Enter marks of subject 4: \"))\n",
    "sub5 = int(input(\"Enter marks of subject 5: \"))\n",
    "\n",
    "total = sub1 + sub2 + sub3 + sub4 + sub5\n",
    "avg = total / 5\n",
    "percentage = (total / 500) * 100\n",
    "\n",
    "print(\"Your total is:\", total)\n",
    "print(\"Your Average is:\", avg)\n",
    "print(\"Your percentage is:\", percentage)\n",
    "\n",
    "if percentage > 90:\n",
    "    print(\"Grade is A\")\n",
    "elif percentage > 80:\n",
    "    print(\"Grade is B\")\n",
    "elif percentage > 70:\n",
    "    print(\"Grade is C\")\n",
    "elif percentage > 60:\n",
    "    print(\"Grade is D\")\n",
    "elif percentage > 50:\n",
    "    print(\"Grade is E\")\n",
    "elif percentage < 35:\n",
    "    print(\"Grade is F\")\n",
    "else:\n",
    "    print(\"Grade is Pass\")"
   ]
  },
  {
   "cell_type": "code",
   "execution_count": 7,
   "id": "ea7dd119-81eb-4121-b22c-426c58f4d33f",
   "metadata": {},
   "outputs": [
    {
     "name": "stdout",
     "output_type": "stream",
     "text": [
      "Sayali\n",
      "Sayali\n",
      "Sayali\n",
      "Sayali\n",
      "Sayali\n",
      "Sayali\n",
      "Sayali\n",
      "Sayali\n",
      "Sayali\n",
      "Sayali\n"
     ]
    }
   ],
   "source": [
    "# 6) Print Name 10 Times\n",
    "for i in range(10):\n",
    "    print(\"Sayali\")"
   ]
  },
  {
   "cell_type": "code",
   "execution_count": 8,
   "id": "86db6670-f601-4271-92cd-75bfff6475d0",
   "metadata": {},
   "outputs": [
    {
     "name": "stdin",
     "output_type": "stream",
     "text": [
      "Enter the number:  9\n"
     ]
    },
    {
     "name": "stdout",
     "output_type": "stream",
     "text": [
      "Number is odd\n"
     ]
    }
   ],
   "source": [
    "# 7) Check Even or Odd Number\n",
    "num = int(input(\"Enter the number: \"))\n",
    "if num % 2 == 0:\n",
    "    print(\"Number is even\")\n",
    "else:\n",
    "    print(\"Number is odd\")"
   ]
  },
  {
   "cell_type": "code",
   "execution_count": 9,
   "id": "0cbcf3a9-283c-4206-9f00-2f80fa6e1a0a",
   "metadata": {},
   "outputs": [
    {
     "name": "stdout",
     "output_type": "stream",
     "text": [
      "0 is even\n",
      "1 is odd\n",
      "2 is even\n",
      "3 is odd\n",
      "4 is even\n",
      "5 is odd\n",
      "6 is even\n",
      "7 is odd\n",
      "8 is even\n",
      "9 is odd\n",
      "10 is even\n",
      "11 is odd\n",
      "12 is even\n",
      "13 is odd\n",
      "14 is even\n",
      "15 is odd\n",
      "16 is even\n",
      "17 is odd\n",
      "18 is even\n",
      "19 is odd\n"
     ]
    }
   ],
   "source": [
    "# 8) Print Even and Odd Numbers from 0 to 19\n",
    "for i in range(20):\n",
    "    if i % 2 == 0:\n",
    "        print(i, \"is even\")\n",
    "    else:\n",
    "        print(i, \"is odd\")"
   ]
  },
  {
   "cell_type": "code",
   "execution_count": null,
   "id": "c2c572bf-c569-4d03-a8fc-6a142aa1d862",
   "metadata": {},
   "outputs": [],
   "source": []
  }
 ],
 "metadata": {
  "kernelspec": {
   "display_name": "python (myenv\n\n\n)",
   "language": "python",
   "name": "myenv"
  },
  "language_info": {
   "codemirror_mode": {
    "name": "ipython",
    "version": 3
   },
   "file_extension": ".py",
   "mimetype": "text/x-python",
   "name": "python",
   "nbconvert_exporter": "python",
   "pygments_lexer": "ipython3",
   "version": "3.13.5"
  }
 },
 "nbformat": 4,
 "nbformat_minor": 5
}
