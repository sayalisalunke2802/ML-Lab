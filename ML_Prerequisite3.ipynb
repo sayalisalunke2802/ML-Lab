{
 "cells": [
  {
   "cell_type": "code",
   "execution_count": 1,
   "id": "1c28dea9-1fe6-46b3-9a1c-b2384ff5cca9",
   "metadata": {},
   "outputs": [],
   "source": [
    "import pandas as pd\n",
    "import numpy as np\n",
    "cric=pd.read_csv(\"cric_data .csv\")"
   ]
  },
  {
   "cell_type": "code",
   "execution_count": 2,
   "id": "ed145d01-e11b-41ef-b07b-52ea04604ef9",
   "metadata": {},
   "outputs": [
    {
     "data": {
      "text/html": [
       "<div>\n",
       "<style scoped>\n",
       "    .dataframe tbody tr th:only-of-type {\n",
       "        vertical-align: middle;\n",
       "    }\n",
       "\n",
       "    .dataframe tbody tr th {\n",
       "        vertical-align: top;\n",
       "    }\n",
       "\n",
       "    .dataframe thead th {\n",
       "        text-align: right;\n",
       "    }\n",
       "</style>\n",
       "<table border=\"1\" class=\"dataframe\">\n",
       "  <thead>\n",
       "    <tr style=\"text-align: right;\">\n",
       "      <th></th>\n",
       "      <th></th>\n",
       "      <th>Sachin Tendulkar</th>\n",
       "      <th>Rahul Dravid</th>\n",
       "      <th>India</th>\n",
       "    </tr>\n",
       "  </thead>\n",
       "  <tbody>\n",
       "    <tr>\n",
       "      <th>0</th>\n",
       "      <td>0</td>\n",
       "      <td>100</td>\n",
       "      <td>78</td>\n",
       "      <td>342</td>\n",
       "    </tr>\n",
       "    <tr>\n",
       "      <th>1</th>\n",
       "      <td>1</td>\n",
       "      <td>11</td>\n",
       "      <td>62</td>\n",
       "      <td>191</td>\n",
       "    </tr>\n",
       "    <tr>\n",
       "      <th>2</th>\n",
       "      <td>2</td>\n",
       "      <td>8</td>\n",
       "      <td>85</td>\n",
       "      <td>252</td>\n",
       "    </tr>\n",
       "    <tr>\n",
       "      <th>3</th>\n",
       "      <td>3</td>\n",
       "      <td>71</td>\n",
       "      <td>24</td>\n",
       "      <td>307</td>\n",
       "    </tr>\n",
       "    <tr>\n",
       "      <th>4</th>\n",
       "      <td>4</td>\n",
       "      <td>104</td>\n",
       "      <td>17</td>\n",
       "      <td>229</td>\n",
       "    </tr>\n",
       "  </tbody>\n",
       "</table>\n",
       "</div>"
      ],
      "text/plain": [
       "      Sachin Tendulkar  Rahul Dravid  India\n",
       "0  0               100            78    342\n",
       "1  1                11            62    191\n",
       "2  2                 8            85    252\n",
       "3  3                71            24    307\n",
       "4  4               104            17    229"
      ]
     },
     "execution_count": 2,
     "metadata": {},
     "output_type": "execute_result"
    }
   ],
   "source": [
    "cric.head()"
   ]
  },
  {
   "cell_type": "code",
   "execution_count": 3,
   "id": "2e780831-69e3-428c-a742-066b2b2e7375",
   "metadata": {},
   "outputs": [
    {
     "data": {
      "text/html": [
       "<div>\n",
       "<style scoped>\n",
       "    .dataframe tbody tr th:only-of-type {\n",
       "        vertical-align: middle;\n",
       "    }\n",
       "\n",
       "    .dataframe tbody tr th {\n",
       "        vertical-align: top;\n",
       "    }\n",
       "\n",
       "    .dataframe thead th {\n",
       "        text-align: right;\n",
       "    }\n",
       "</style>\n",
       "<table border=\"1\" class=\"dataframe\">\n",
       "  <thead>\n",
       "    <tr style=\"text-align: right;\">\n",
       "      <th></th>\n",
       "      <th></th>\n",
       "      <th>Sachin Tendulkar</th>\n",
       "      <th>Rahul Dravid</th>\n",
       "      <th>India</th>\n",
       "    </tr>\n",
       "  </thead>\n",
       "  <tbody>\n",
       "    <tr>\n",
       "      <th>count</th>\n",
       "      <td>225.000000</td>\n",
       "      <td>225.000000</td>\n",
       "      <td>225.000000</td>\n",
       "      <td>225.000000</td>\n",
       "    </tr>\n",
       "    <tr>\n",
       "      <th>mean</th>\n",
       "      <td>112.000000</td>\n",
       "      <td>39.875556</td>\n",
       "      <td>32.062222</td>\n",
       "      <td>220.795556</td>\n",
       "    </tr>\n",
       "    <tr>\n",
       "      <th>std</th>\n",
       "      <td>65.096083</td>\n",
       "      <td>41.324096</td>\n",
       "      <td>30.812156</td>\n",
       "      <td>80.416122</td>\n",
       "    </tr>\n",
       "    <tr>\n",
       "      <th>min</th>\n",
       "      <td>0.000000</td>\n",
       "      <td>0.000000</td>\n",
       "      <td>0.000000</td>\n",
       "      <td>0.000000</td>\n",
       "    </tr>\n",
       "    <tr>\n",
       "      <th>25%</th>\n",
       "      <td>56.000000</td>\n",
       "      <td>6.000000</td>\n",
       "      <td>7.000000</td>\n",
       "      <td>175.000000</td>\n",
       "    </tr>\n",
       "    <tr>\n",
       "      <th>50%</th>\n",
       "      <td>112.000000</td>\n",
       "      <td>27.000000</td>\n",
       "      <td>22.000000</td>\n",
       "      <td>216.000000</td>\n",
       "    </tr>\n",
       "    <tr>\n",
       "      <th>75%</th>\n",
       "      <td>168.000000</td>\n",
       "      <td>63.000000</td>\n",
       "      <td>53.000000</td>\n",
       "      <td>273.000000</td>\n",
       "    </tr>\n",
       "    <tr>\n",
       "      <th>max</th>\n",
       "      <td>224.000000</td>\n",
       "      <td>186.000000</td>\n",
       "      <td>153.000000</td>\n",
       "      <td>499.000000</td>\n",
       "    </tr>\n",
       "  </tbody>\n",
       "</table>\n",
       "</div>"
      ],
      "text/plain": [
       "                   Sachin Tendulkar  Rahul Dravid       India\n",
       "count  225.000000        225.000000    225.000000  225.000000\n",
       "mean   112.000000         39.875556     32.062222  220.795556\n",
       "std     65.096083         41.324096     30.812156   80.416122\n",
       "min      0.000000          0.000000      0.000000    0.000000\n",
       "25%     56.000000          6.000000      7.000000  175.000000\n",
       "50%    112.000000         27.000000     22.000000  216.000000\n",
       "75%    168.000000         63.000000     53.000000  273.000000\n",
       "max    224.000000        186.000000    153.000000  499.000000"
      ]
     },
     "execution_count": 3,
     "metadata": {},
     "output_type": "execute_result"
    }
   ],
   "source": [
    "cric.describe()"
   ]
  },
  {
   "cell_type": "code",
   "execution_count": 4,
   "id": "3cb2e4f6-52dd-49b9-9552-407421803a38",
   "metadata": {},
   "outputs": [
    {
     "data": {
      "text/plain": [
       "<bound method DataFrame.info of           Sachin Tendulkar  Rahul Dravid  India\n",
       "0      0               100            78    342\n",
       "1      1                11            62    191\n",
       "2      2                 8            85    252\n",
       "3      3                71            24    307\n",
       "4      4               104            17    229\n",
       "..   ...               ...           ...    ...\n",
       "220  220                25            14    101\n",
       "221  221               102            50    470\n",
       "222  222                 0            22    165\n",
       "223  223                27             0    192\n",
       "224  224                40             0    213\n",
       "\n",
       "[225 rows x 4 columns]>"
      ]
     },
     "execution_count": 4,
     "metadata": {},
     "output_type": "execute_result"
    }
   ],
   "source": [
    "cric.info"
   ]
  },
  {
   "cell_type": "code",
   "execution_count": 5,
   "id": "54abeb4e-30c6-4cda-b3db-1f1bcf8a8218",
   "metadata": {},
   "outputs": [
    {
     "data": {
      "text/plain": [
       "(225, 4)"
      ]
     },
     "execution_count": 5,
     "metadata": {},
     "output_type": "execute_result"
    }
   ],
   "source": [
    "cric.shape"
   ]
  },
  {
   "cell_type": "code",
   "execution_count": 6,
   "id": "043da4fd-e455-4554-848f-34688a31ee4b",
   "metadata": {},
   "outputs": [],
   "source": [
    "#Sachin Information\n",
    "sachin=cric.iloc[:,1]"
   ]
  },
  {
   "cell_type": "code",
   "execution_count": 7,
   "id": "56d5db5c-7151-4d2b-a163-a22bd8008977",
   "metadata": {},
   "outputs": [
    {
     "name": "stdout",
     "output_type": "stream",
     "text": [
      "Sachin Analysis:\n",
      "First 5 records of Sachin:\n"
     ]
    },
    {
     "data": {
      "text/plain": [
       "0    100\n",
       "1     11\n",
       "2      8\n",
       "3     71\n",
       "4    104\n",
       "Name: Sachin Tendulkar, dtype: int64"
      ]
     },
     "execution_count": 7,
     "metadata": {},
     "output_type": "execute_result"
    }
   ],
   "source": [
    "print(\"Sachin Analysis:\")\n",
    "print(\"First 5 records of Sachin:\")\n",
    "sachin.head()"
   ]
  },
  {
   "cell_type": "code",
   "execution_count": 8,
   "id": "89e2a48a-8f23-4cd4-831b-b4fefb838513",
   "metadata": {},
   "outputs": [
    {
     "name": "stdout",
     "output_type": "stream",
     "text": [
      "Maximum Score of Sachin:\n"
     ]
    },
    {
     "data": {
      "text/plain": [
       "186"
      ]
     },
     "execution_count": 8,
     "metadata": {},
     "output_type": "execute_result"
    }
   ],
   "source": [
    "print(\"Maximum Score of Sachin:\")\n",
    "sachin.max()"
   ]
  },
  {
   "cell_type": "code",
   "execution_count": 9,
   "id": "bf80f43c-b9d9-4120-b301-053179bb74e7",
   "metadata": {},
   "outputs": [
    {
     "name": "stdout",
     "output_type": "stream",
     "text": [
      "Minimum Score of Sachin:\n"
     ]
    },
    {
     "data": {
      "text/plain": [
       "0"
      ]
     },
     "execution_count": 9,
     "metadata": {},
     "output_type": "execute_result"
    }
   ],
   "source": [
    "print(\"Minimum Score of Sachin:\")\n",
    "sachin.min()"
   ]
  },
  {
   "cell_type": "code",
   "execution_count": 10,
   "id": "6125e0bb-8a9e-486c-b171-31e4e093a9f2",
   "metadata": {},
   "outputs": [
    {
     "name": "stdout",
     "output_type": "stream",
     "text": [
      "Average Score of Sachin:\n"
     ]
    },
    {
     "data": {
      "text/plain": [
       "np.float64(39.87555555555556)"
      ]
     },
     "execution_count": 10,
     "metadata": {},
     "output_type": "execute_result"
    }
   ],
   "source": [
    "print(\"Average Score of Sachin:\")\n",
    "sachin.mean()"
   ]
  },
  {
   "cell_type": "code",
   "execution_count": 11,
   "id": "f5e313d9-743d-401b-a779-0ffe4b51a899",
   "metadata": {},
   "outputs": [
    {
     "name": "stdout",
     "output_type": "stream",
     "text": [
      "No. of Half-centuries of Sachin:\n"
     ]
    },
    {
     "data": {
      "text/plain": [
       "42"
      ]
     },
     "execution_count": 11,
     "metadata": {},
     "output_type": "execute_result"
    }
   ],
   "source": [
    "print(\"No. of Half-centuries of Sachin:\")\n",
    "np.count_nonzero((sachin<100)&(sachin>49))"
   ]
  },
  {
   "cell_type": "code",
   "execution_count": 12,
   "id": "60ae0e78-1acd-41e4-9644-aeb94cf9f378",
   "metadata": {},
   "outputs": [
    {
     "name": "stdout",
     "output_type": "stream",
     "text": [
      "No. of Centuries of Sachin:\n"
     ]
    },
    {
     "data": {
      "text/plain": [
       "23"
      ]
     },
     "execution_count": 12,
     "metadata": {},
     "output_type": "execute_result"
    }
   ],
   "source": [
    "print(\"No. of Centuries of Sachin:\")\n",
    "np.count_nonzero((sachin>100))"
   ]
  },
  {
   "cell_type": "code",
   "execution_count": 13,
   "id": "90f18a85-6c40-4f64-a0f7-50cc578e6710",
   "metadata": {},
   "outputs": [
    {
     "name": "stdout",
     "output_type": "stream",
     "text": [
      "Cumulative sum of Sachin Score:\n"
     ]
    },
    {
     "data": {
      "text/plain": [
       "0       100\n",
       "1       111\n",
       "2       119\n",
       "3       190\n",
       "4       294\n",
       "       ... \n",
       "220    8803\n",
       "221    8905\n",
       "222    8905\n",
       "223    8932\n",
       "224    8972\n",
       "Name: Sachin Tendulkar, Length: 225, dtype: int64"
      ]
     },
     "execution_count": 13,
     "metadata": {},
     "output_type": "execute_result"
    }
   ],
   "source": [
    "print(\"Cumulative sum of Sachin Score:\")\n",
    "sachin_cumsum=np.cumsum(sachin)\n",
    "sachin_cumsum"
   ]
  },
  {
   "cell_type": "code",
   "execution_count": null,
   "id": "41acf346-9aed-4c9f-8172-3d4bf36e3215",
   "metadata": {},
   "outputs": [],
   "source": []
  }
 ],
 "metadata": {
  "kernelspec": {
   "display_name": "python (myenv\n\n\n)",
   "language": "python",
   "name": "myenv"
  },
  "language_info": {
   "codemirror_mode": {
    "name": "ipython",
    "version": 3
   },
   "file_extension": ".py",
   "mimetype": "text/x-python",
   "name": "python",
   "nbconvert_exporter": "python",
   "pygments_lexer": "ipython3",
   "version": "3.13.5"
  }
 },
 "nbformat": 4,
 "nbformat_minor": 5
}
