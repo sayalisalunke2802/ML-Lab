{
 "cells": [
  {
   "cell_type": "code",
   "execution_count": 3,
   "id": "1b304c6c-a5e5-4dbc-b509-24c6940685c7",
   "metadata": {},
   "outputs": [
    {
     "name": "stdout",
     "output_type": "stream",
     "text": [
      "NOT(1) = 0\n",
      "NOT(0) = 1\n"
     ]
    }
   ],
   "source": [
    "#7. Implement a basic not gate using perceptron.\n",
    "# importing Python library\n",
    "import numpy as np\n",
    "# define Unit Step Function\n",
    "def unitStep(v):\n",
    " if v >= 0:\n",
    "  return 1\n",
    " else:\n",
    "  return 0\n",
    "# design Perceptron Model\n",
    "def perceptronModel(x, w, b):\n",
    " v = np.dot(w, x) + b\n",
    " y = unitStep(v)\n",
    " return y\n",
    "# NOT Logic Function\n",
    "# w = -1, b = 0.5\n",
    "def NOT_logicFunction(x):\n",
    " w = -1\n",
    " b = 0.5\n",
    " return perceptronModel(x, w, b)\n",
    "# testing the Perceptron Model\n",
    "test1 = np.array(1)\n",
    "test2 = np.array(0)\n",
    "print(\"NOT({}) = {}\".format(1, NOT_logicFunction(test1)))\n",
    "print(\"NOT({}) = {}\".format(0, NOT_logicFunction(test2)))"
   ]
  },
  {
   "cell_type": "code",
   "execution_count": null,
   "id": "7a2c122b-d383-4882-b880-8e7af9902d98",
   "metadata": {},
   "outputs": [],
   "source": []
  }
 ],
 "metadata": {
  "kernelspec": {
   "display_name": "python (myenv\n\n\n)",
   "language": "python",
   "name": "myenv"
  },
  "language_info": {
   "codemirror_mode": {
    "name": "ipython",
    "version": 3
   },
   "file_extension": ".py",
   "mimetype": "text/x-python",
   "name": "python",
   "nbconvert_exporter": "python",
   "pygments_lexer": "ipython3",
   "version": "3.13.5"
  }
 },
 "nbformat": 4,
 "nbformat_minor": 5
}
