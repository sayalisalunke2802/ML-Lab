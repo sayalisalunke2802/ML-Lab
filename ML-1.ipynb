{
 "cells": [
  {
   "cell_type": "code",
   "execution_count": 6,
   "id": "4015cff7-8cd8-4ad4-bad6-7357acbd7166",
   "metadata": {},
   "outputs": [
    {
     "name": "stdout",
     "output_type": "stream",
     "text": [
      "   fruit_label fruit_name fruit_subtype  mass  width  height  color_score\n",
      "0            1      apple  granny_smith   192    8.4     7.3         0.55\n",
      "1            1      apple  granny_smith   180    8.0     6.8         0.59\n",
      "2            1      apple  granny_smith   176    7.4     7.2         0.60\n",
      "3            2   mandarin      mandarin    86    6.2     4.7         0.80\n",
      "4            2   mandarin      mandarin    84    6.0     4.6         0.79\n",
      "    fruit_label fruit_name fruit_subtype  mass  width  height  color_score\n",
      "54            4      lemon       unknown   116    6.1     8.5         0.71\n",
      "55            4      lemon       unknown   116    6.3     7.7         0.72\n",
      "56            4      lemon       unknown   116    5.9     8.1         0.73\n",
      "57            4      lemon       unknown   152    6.5     8.5         0.72\n",
      "58            4      lemon       unknown   118    6.1     8.1         0.70\n",
      "       fruit_label        mass      width     height  color_score\n",
      "count    59.000000   59.000000  59.000000  59.000000    59.000000\n",
      "mean      2.542373  163.118644   7.105085   7.693220     0.762881\n",
      "std       1.208048   55.018832   0.816938   1.361017     0.076857\n",
      "min       1.000000   76.000000   5.800000   4.000000     0.550000\n",
      "25%       1.000000  140.000000   6.600000   7.200000     0.720000\n",
      "50%       3.000000  158.000000   7.200000   7.600000     0.750000\n",
      "75%       4.000000  177.000000   7.500000   8.200000     0.810000\n",
      "max       4.000000  362.000000   9.600000  10.500000     0.930000\n",
      "Accuracy of K-NN classifier on training set:0.95\n",
      "Accuracy of K-NN classifier on test set:1.00\n",
      "Accuracy of SVM classifier on trainning set:0.91\n",
      "Accuracy of SVM classifier on test set:0.80\n",
      "Accuracy of Logistic Regression on training set: 0.75\n",
      "Accuracy of Logistic Regressionr on test set: 0.47\n"
     ]
    },
    {
     "name": "stderr",
     "output_type": "stream",
     "text": [
      "C:\\Users\\HP\\anaconda3\\Lib\\site-packages\\sklearn\\metrics\\_classification.py:1565: UndefinedMetricWarning: Precision is ill-defined and being set to 0.0 in labels with no predicted samples. Use `zero_division` parameter to control this behavior.\n",
      "  _warn_prf(average, modifier, f\"{metric.capitalize()} is\", len(result))\n",
      "C:\\Users\\HP\\anaconda3\\Lib\\site-packages\\sklearn\\metrics\\_classification.py:1565: UndefinedMetricWarning: Precision is ill-defined and being set to 0.0 in labels with no predicted samples. Use `zero_division` parameter to control this behavior.\n",
      "  _warn_prf(average, modifier, f\"{metric.capitalize()} is\", len(result))\n",
      "C:\\Users\\HP\\anaconda3\\Lib\\site-packages\\sklearn\\metrics\\_classification.py:1565: UndefinedMetricWarning: Precision is ill-defined and being set to 0.0 in labels with no predicted samples. Use `zero_division` parameter to control this behavior.\n",
      "  _warn_prf(average, modifier, f\"{metric.capitalize()} is\", len(result))\n"
     ]
    },
    {
     "data": {
      "text/plain": [
       "'              precision    recall  f1-score   support\\n\\n           1       0.36      1.00      0.53         4\\n           2       0.00      0.00      0.00         1\\n           3       1.00      0.12      0.22         8\\n           4       0.67      1.00      0.80         2\\n\\n    accuracy                           0.47        15\\n   macro avg       0.51      0.53      0.39        15\\nweighted avg       0.72      0.47      0.37        15\\n'"
      ]
     },
     "execution_count": 6,
     "metadata": {},
     "output_type": "execute_result"
    }
   ],
   "source": [
    "#1.On the fruit dataset, compare the performance of Logistic Regression, SVM, KNN on the basis of their accuracy.\n",
    "import numpy as np\n",
    "import pandas as pd\n",
    "import matplotlib.pyplot as plt\n",
    "from sklearn.metrics import classification_report\n",
    "from sklearn.model_selection import train_test_split\n",
    "from sklearn.preprocessing import MinMaxScaler\n",
    "from sklearn.linear_model import LogisticRegression\n",
    "from sklearn.tree import DecisionTreeClassifier\n",
    "from sklearn.neighbors import KNeighborsClassifier\n",
    "from sklearn.discriminant_analysis import LinearDiscriminantAnalysis\n",
    "from sklearn.svm import SVC\n",
    "fruits = pd.read_csv('fruit_data.csv')\n",
    "print(fruits.head())\n",
    "print(fruits.tail())\n",
    "print (fruits.describe())\n",
    "feature_names=['mass','width','height','color_score']\n",
    "X = fruits[feature_names]\n",
    "Y = fruits['fruit_label']\n",
    "X_train, X_test,y_train,y_test=train_test_split(X,Y,random_state=0)\n",
    "scaler = MinMaxScaler()\n",
    "X_train = scaler.fit_transform(X_train)\n",
    "X_test= scaler.transform(X_test)\n",
    "knn = KNeighborsClassifier()\n",
    "knn.fit(X_train, y_train)\n",
    "print('Accuracy of K-NN classifier on training set:{:.2f}'.format(knn.score(X_train,y_train)))\n",
    "print('Accuracy of K-NN classifier on test set:{:.2f}'.format(knn.score(X_test,y_test)))\n",
    "svm = SVC()\n",
    "svm.fit(X_train,y_train)\n",
    "print('Accuracy of SVM classifier on trainning set:{:.2f}'.format(svm.score(X_train,y_train)))\n",
    "print('Accuracy of SVM classifier on test set:{:.2f}'.format(svm.score(X_test,y_test)))\n",
    "# Logistic Regression\n",
    "from sklearn.linear_model import LogisticRegression\n",
    "model = LogisticRegression()\n",
    "model.fit(X_train, y_train)\n",
    "predictions = model.predict(X_test)\n",
    "print('Accuracy of Logistic Regression on training set: {:.2f}'.format(model.score(X_train,\n",
    "y_train)))\n",
    "print('Accuracy of Logistic Regressionr on test set: {:.2f}'.format(model.score(X_test,\n",
    "y_test)))\n",
    "classification_report(y_test, predictions)"
   ]
  },
  {
   "cell_type": "code",
   "execution_count": null,
   "id": "9da2e57d-929c-4b89-9072-7b058c626ad5",
   "metadata": {},
   "outputs": [],
   "source": []
  },
  {
   "cell_type": "code",
   "execution_count": null,
   "id": "0744c2d4-aad4-429b-8bc0-37cbc745dffe",
   "metadata": {},
   "outputs": [],
   "source": []
  }
 ],
 "metadata": {
  "kernelspec": {
   "display_name": "python (myenv\n\n\n)",
   "language": "python",
   "name": "myenv"
  },
  "language_info": {
   "codemirror_mode": {
    "name": "ipython",
    "version": 3
   },
   "file_extension": ".py",
   "mimetype": "text/x-python",
   "name": "python",
   "nbconvert_exporter": "python",
   "pygments_lexer": "ipython3",
   "version": "3.13.5"
  }
 },
 "nbformat": 4,
 "nbformat_minor": 5
}
